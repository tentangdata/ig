{
 "cells": [
  {
   "cell_type": "code",
   "execution_count": 1,
   "metadata": {
    "collapsed": true
   },
   "outputs": [],
   "source": [
    "%load_ext autoreload\n",
    "%autoreload 2"
   ]
  },
  {
   "cell_type": "code",
   "execution_count": 2,
   "metadata": {
    "collapsed": false
   },
   "outputs": [
    {
     "name": "stdout",
     "output_type": "stream",
     "text": [
      "0.18.1\n",
      "0.17.1\n"
     ]
    }
   ],
   "source": [
    "from __future__ import print_function\n",
    "from datetime import datetime\n",
    "import re\n",
    "\n",
    "import feature_eng\n",
    "import matplotlib.pyplot as plt\n",
    "import numpy as np\n",
    "import pandas as pd\n",
    "import scipy.stats\n",
    "from scipy.stats import norm\n",
    "import sklearn\n",
    "from sklearn.decomposition import TruncatedSVD\n",
    "from sklearn.cross_validation import train_test_split\n",
    "from sklearn.feature_extraction.text import CountVectorizer, TfidfVectorizer\n",
    "from sklearn.grid_search import ParameterGrid, ParameterSampler, RandomizedSearchCV\n",
    "from sklearn.metrics import accuracy_score, precision_recall_fscore_support, precision_score, recall_score, f1_score, confusion_matrix, roc_curve, roc_auc_score\n",
    "from sklearn.naive_bayes import GaussianNB, BernoulliNB\n",
    "from sklearn.neighbors import KNeighborsClassifier\n",
    "from sklearn.pipeline import Pipeline\n",
    "from sklearn.preprocessing import MinMaxScaler\n",
    "from sklearn.svm import SVC\n",
    "import seaborn as sns\n",
    "from xgboost import XGBClassifier\n",
    "\n",
    "%matplotlib inline\n",
    "\n",
    "print(pd.__version__)\n",
    "print(sklearn.__version__)"
   ]
  },
  {
   "cell_type": "markdown",
   "metadata": {},
   "source": [
    "[Go to experiments](#Experiments)"
   ]
  },
  {
   "cell_type": "code",
   "execution_count": 3,
   "metadata": {
    "collapsed": true
   },
   "outputs": [],
   "source": [
    "RAND_SEED_SPLIT = RAND_SEED_TUNING = 9161703\n",
    "N_ITER_TUNING = 100"
   ]
  },
  {
   "cell_type": "code",
   "execution_count": 4,
   "metadata": {
    "collapsed": false
   },
   "outputs": [
    {
     "data": {
      "text/plain": [
       "0    22743\n",
       "1     1859\n",
       "Name: label, dtype: int64"
      ]
     },
     "execution_count": 4,
     "metadata": {},
     "output_type": "execute_result"
    }
   ],
   "source": [
    "# df = pd.read_pickle('data/data-post.p')\n",
    "# df.label = df.label.apply(pd.to_numeric)\n",
    "# df = extract_features(df)\n",
    "df = pd.read_csv('data/data_w_features.csv')\n",
    "df['label'].value_counts()"
   ]
  },
  {
   "cell_type": "code",
   "execution_count": 5,
   "metadata": {
    "collapsed": true
   },
   "outputs": [
    {
     "data": {
      "text/html": [
       "<div>\n",
       "<table border=\"1\" class=\"dataframe\">\n",
       "  <thead>\n",
       "    <tr style=\"text-align: right;\">\n",
       "      <th></th>\n",
       "      <th>id</th>\n",
       "      <th>time</th>\n",
       "      <th>label</th>\n",
       "      <th>comments</th>\n",
       "      <th>likes</th>\n",
       "      <th>time_post</th>\n",
       "      <th>n_char</th>\n",
       "      <th>n_token</th>\n",
       "      <th>n_capital</th>\n",
       "      <th>n_number</th>\n",
       "      <th>n_emoji</th>\n",
       "      <th>n_unique_emoji</th>\n",
       "      <th>n_mention</th>\n",
       "      <th>%_capital</th>\n",
       "      <th>%_number</th>\n",
       "      <th>%_emoji</th>\n",
       "      <th>%_unique_emoji</th>\n",
       "      <th>log_char</th>\n",
       "    </tr>\n",
       "  </thead>\n",
       "  <tbody>\n",
       "    <tr>\n",
       "      <th>count</th>\n",
       "      <td>2.460200e+04</td>\n",
       "      <td>2.460200e+04</td>\n",
       "      <td>24602.000000</td>\n",
       "      <td>24602.000000</td>\n",
       "      <td>24602.000000</td>\n",
       "      <td>2.460200e+04</td>\n",
       "      <td>24602.000000</td>\n",
       "      <td>24602.000000</td>\n",
       "      <td>24602.000000</td>\n",
       "      <td>24602.000000</td>\n",
       "      <td>24602.000000</td>\n",
       "      <td>24602.000000</td>\n",
       "      <td>24602.000000</td>\n",
       "      <td>24602.000000</td>\n",
       "      <td>24602.000000</td>\n",
       "      <td>24602.000000</td>\n",
       "      <td>24602.000000</td>\n",
       "      <td>24602.000000</td>\n",
       "    </tr>\n",
       "    <tr>\n",
       "      <th>mean</th>\n",
       "      <td>1.785460e+16</td>\n",
       "      <td>1.458604e+09</td>\n",
       "      <td>0.075563</td>\n",
       "      <td>3898.954231</td>\n",
       "      <td>47677.054061</td>\n",
       "      <td>1.445165e+09</td>\n",
       "      <td>56.993415</td>\n",
       "      <td>9.026868</td>\n",
       "      <td>6.652305</td>\n",
       "      <td>1.184457</td>\n",
       "      <td>0.739208</td>\n",
       "      <td>0.390090</td>\n",
       "      <td>0.721283</td>\n",
       "      <td>0.064761</td>\n",
       "      <td>0.017669</td>\n",
       "      <td>0.033454</td>\n",
       "      <td>0.019734</td>\n",
       "      <td>3.391279</td>\n",
       "    </tr>\n",
       "    <tr>\n",
       "      <th>std</th>\n",
       "      <td>1.278845e+13</td>\n",
       "      <td>1.670100e+07</td>\n",
       "      <td>0.264303</td>\n",
       "      <td>7566.835904</td>\n",
       "      <td>56460.777801</td>\n",
       "      <td>2.271045e+07</td>\n",
       "      <td>102.058483</td>\n",
       "      <td>16.934521</td>\n",
       "      <td>31.435453</td>\n",
       "      <td>6.122488</td>\n",
       "      <td>2.687093</td>\n",
       "      <td>1.034963</td>\n",
       "      <td>0.895949</td>\n",
       "      <td>0.137148</td>\n",
       "      <td>0.078932</td>\n",
       "      <td>0.137256</td>\n",
       "      <td>0.091833</td>\n",
       "      <td>1.099910</td>\n",
       "    </tr>\n",
       "    <tr>\n",
       "      <th>min</th>\n",
       "      <td>1.784224e+16</td>\n",
       "      <td>1.375101e+09</td>\n",
       "      <td>0.000000</td>\n",
       "      <td>72.000000</td>\n",
       "      <td>227.000000</td>\n",
       "      <td>1.354197e+09</td>\n",
       "      <td>1.000000</td>\n",
       "      <td>0.000000</td>\n",
       "      <td>0.000000</td>\n",
       "      <td>0.000000</td>\n",
       "      <td>0.000000</td>\n",
       "      <td>0.000000</td>\n",
       "      <td>0.000000</td>\n",
       "      <td>0.000000</td>\n",
       "      <td>0.000000</td>\n",
       "      <td>0.000000</td>\n",
       "      <td>0.000000</td>\n",
       "      <td>0.000000</td>\n",
       "    </tr>\n",
       "    <tr>\n",
       "      <th>25%</th>\n",
       "      <td>1.785026e+16</td>\n",
       "      <td>1.450438e+09</td>\n",
       "      <td>0.000000</td>\n",
       "      <td>664.000000</td>\n",
       "      <td>10949.000000</td>\n",
       "      <td>1.432007e+09</td>\n",
       "      <td>15.000000</td>\n",
       "      <td>2.000000</td>\n",
       "      <td>0.000000</td>\n",
       "      <td>0.000000</td>\n",
       "      <td>0.000000</td>\n",
       "      <td>0.000000</td>\n",
       "      <td>0.000000</td>\n",
       "      <td>0.000000</td>\n",
       "      <td>0.000000</td>\n",
       "      <td>0.000000</td>\n",
       "      <td>0.000000</td>\n",
       "      <td>2.708050</td>\n",
       "    </tr>\n",
       "    <tr>\n",
       "      <th>50%</th>\n",
       "      <td>1.785350e+16</td>\n",
       "      <td>1.463847e+09</td>\n",
       "      <td>0.000000</td>\n",
       "      <td>1475.000000</td>\n",
       "      <td>25972.000000</td>\n",
       "      <td>1.448722e+09</td>\n",
       "      <td>29.000000</td>\n",
       "      <td>4.000000</td>\n",
       "      <td>1.000000</td>\n",
       "      <td>0.000000</td>\n",
       "      <td>0.000000</td>\n",
       "      <td>0.000000</td>\n",
       "      <td>1.000000</td>\n",
       "      <td>0.025641</td>\n",
       "      <td>0.000000</td>\n",
       "      <td>0.000000</td>\n",
       "      <td>0.000000</td>\n",
       "      <td>3.367296</td>\n",
       "    </tr>\n",
       "    <tr>\n",
       "      <th>75%</th>\n",
       "      <td>1.785843e+16</td>\n",
       "      <td>1.471747e+09</td>\n",
       "      <td>0.000000</td>\n",
       "      <td>4488.000000</td>\n",
       "      <td>67953.250000</td>\n",
       "      <td>1.463973e+09</td>\n",
       "      <td>55.000000</td>\n",
       "      <td>9.000000</td>\n",
       "      <td>1.000000</td>\n",
       "      <td>0.000000</td>\n",
       "      <td>0.000000</td>\n",
       "      <td>0.000000</td>\n",
       "      <td>1.000000</td>\n",
       "      <td>0.055556</td>\n",
       "      <td>0.000000</td>\n",
       "      <td>0.000000</td>\n",
       "      <td>0.000000</td>\n",
       "      <td>4.007333</td>\n",
       "    </tr>\n",
       "    <tr>\n",
       "      <th>max</th>\n",
       "      <td>1.810824e+16</td>\n",
       "      <td>1.475015e+09</td>\n",
       "      <td>1.000000</td>\n",
       "      <td>116226.000000</td>\n",
       "      <td>485577.000000</td>\n",
       "      <td>1.474420e+09</td>\n",
       "      <td>1490.000000</td>\n",
       "      <td>228.000000</td>\n",
       "      <td>722.000000</td>\n",
       "      <td>109.000000</td>\n",
       "      <td>88.000000</td>\n",
       "      <td>15.000000</td>\n",
       "      <td>10.000000</td>\n",
       "      <td>1.000000</td>\n",
       "      <td>1.000000</td>\n",
       "      <td>1.000000</td>\n",
       "      <td>1.000000</td>\n",
       "      <td>7.306531</td>\n",
       "    </tr>\n",
       "  </tbody>\n",
       "</table>\n",
       "</div>"
      ],
      "text/plain": [
       "                 id          time         label       comments          likes     time_post        n_char       n_token     n_capital      n_number       n_emoji  n_unique_emoji  \\\n",
       "count  2.460200e+04  2.460200e+04  24602.000000   24602.000000   24602.000000  2.460200e+04  24602.000000  24602.000000  24602.000000  24602.000000  24602.000000    24602.000000   \n",
       "mean   1.785460e+16  1.458604e+09      0.075563    3898.954231   47677.054061  1.445165e+09     56.993415      9.026868      6.652305      1.184457      0.739208        0.390090   \n",
       "std    1.278845e+13  1.670100e+07      0.264303    7566.835904   56460.777801  2.271045e+07    102.058483     16.934521     31.435453      6.122488      2.687093        1.034963   \n",
       "min    1.784224e+16  1.375101e+09      0.000000      72.000000     227.000000  1.354197e+09      1.000000      0.000000      0.000000      0.000000      0.000000        0.000000   \n",
       "25%    1.785026e+16  1.450438e+09      0.000000     664.000000   10949.000000  1.432007e+09     15.000000      2.000000      0.000000      0.000000      0.000000        0.000000   \n",
       "50%    1.785350e+16  1.463847e+09      0.000000    1475.000000   25972.000000  1.448722e+09     29.000000      4.000000      1.000000      0.000000      0.000000        0.000000   \n",
       "75%    1.785843e+16  1.471747e+09      0.000000    4488.000000   67953.250000  1.463973e+09     55.000000      9.000000      1.000000      0.000000      0.000000        0.000000   \n",
       "max    1.810824e+16  1.475015e+09      1.000000  116226.000000  485577.000000  1.474420e+09   1490.000000    228.000000    722.000000    109.000000     88.000000       15.000000   \n",
       "\n",
       "          n_mention     %_capital      %_number       %_emoji  %_unique_emoji      log_char  \n",
       "count  24602.000000  24602.000000  24602.000000  24602.000000    24602.000000  24602.000000  \n",
       "mean       0.721283      0.064761      0.017669      0.033454        0.019734      3.391279  \n",
       "std        0.895949      0.137148      0.078932      0.137256        0.091833      1.099910  \n",
       "min        0.000000      0.000000      0.000000      0.000000        0.000000      0.000000  \n",
       "25%        0.000000      0.000000      0.000000      0.000000        0.000000      2.708050  \n",
       "50%        1.000000      0.025641      0.000000      0.000000        0.000000      3.367296  \n",
       "75%        1.000000      0.055556      0.000000      0.000000        0.000000      4.007333  \n",
       "max       10.000000      1.000000      1.000000      1.000000        1.000000      7.306531  "
      ]
     },
     "execution_count": 5,
     "metadata": {},
     "output_type": "execute_result"
    }
   ],
   "source": [
    "df.describe()"
   ]
  },
  {
   "cell_type": "code",
   "execution_count": 5,
   "metadata": {
    "collapsed": false
   },
   "outputs": [
    {
     "data": {
      "text/html": [
       "<div>\n",
       "<table border=\"1\" class=\"dataframe\">\n",
       "  <thead>\n",
       "    <tr style=\"text-align: right;\">\n",
       "      <th></th>\n",
       "      <th>0</th>\n",
       "      <th>1</th>\n",
       "    </tr>\n",
       "  </thead>\n",
       "  <tbody>\n",
       "    <tr>\n",
       "      <th>train</th>\n",
       "      <td>13667</td>\n",
       "      <td>1094</td>\n",
       "    </tr>\n",
       "    <tr>\n",
       "      <th>val</th>\n",
       "      <td>4549</td>\n",
       "      <td>371</td>\n",
       "    </tr>\n",
       "    <tr>\n",
       "      <th>test</th>\n",
       "      <td>4527</td>\n",
       "      <td>394</td>\n",
       "    </tr>\n",
       "  </tbody>\n",
       "</table>\n",
       "</div>"
      ],
      "text/plain": [
       "           0     1\n",
       "train  13667  1094\n",
       "val     4549   371\n",
       "test    4527   394"
      ]
     },
     "execution_count": 5,
     "metadata": {},
     "output_type": "execute_result"
    }
   ],
   "source": [
    "train, validate, test = np.split(df.sample(frac=1, random_state=RAND_SEED_SPLIT), [int(.6 * len(df)), int(.8 * len(df))])\n",
    "train, validate, test = train.reset_index(drop=True), validate.reset_index(drop=True), test.reset_index(drop=True)\n",
    "pd.DataFrame([train['label'].value_counts(),\n",
    "              validate['label'].value_counts(),\n",
    "              test['label'].value_counts()],\n",
    "             index=['train', 'val', 'test'])"
   ]
  },
  {
   "cell_type": "code",
   "execution_count": 11,
   "metadata": {
    "collapsed": true
   },
   "outputs": [
    {
     "data": {
      "image/png": "[encoded data removed]",
      "text/plain": [
       "<matplotlib.figure.Figure at 0x10fab6c18>"
      ]
     },
     "metadata": {},
     "output_type": "display_data"
    }
   ],
   "source": [
    "fig, ax = plt.subplots(figsize=(15,5))\n",
    "sns.distplot(train.n_token.apply(lambda x: np.log(x + 1)), color='g', ax=ax)\n",
    "plt.xlabel('log(n_tokens)')\n",
    "plt.show()"
   ]
  },
  {
   "cell_type": "code",
   "execution_count": 12,
   "metadata": {
    "collapsed": true
   },
   "outputs": [
    {
     "data": {
      "image/png": "[encoded data removed]",
      "text/plain": [
       "<matplotlib.figure.Figure at 0x1116ca940>"
      ]
     },
     "metadata": {},
     "output_type": "display_data"
    }
   ],
   "source": [
    "fig, ax = plt.subplots(figsize=(10,5))\n",
    "sns.distplot(train.n_char.apply(np.log), fit=norm, fit_kws={'linestyle': '--', 'color': 'r'}, color='b', ax=ax)\n",
    "plt.xlabel('log(#characters)')\n",
    "plt.show()"
   ]
  },
  {
   "cell_type": "code",
   "execution_count": 13,
   "metadata": {
    "collapsed": true
   },
   "outputs": [
    {
     "data": {
      "image/png": "[encoded data removed]",
      "text/plain": [
       "<matplotlib.figure.Figure at 0x10fd02cf8>"
      ]
     },
     "metadata": {},
     "output_type": "display_data"
    }
   ],
   "source": [
    "fig, ax = plt.subplots(figsize=(10,5))\n",
    "# sns.distplot(np.log(validate[validate.label == 1].n_char), kde=True, kde_kws={'alpha': 0}, hist_kws={'color': 'r'}, hist=True)\n",
    "# sns.distplot(np.log(validate[validate.label == 0].n_char), kde=True, kde_kws={'alpha': 0}, hist_kws={'color': 'g'}, hist=True)\n",
    "sns.distplot(np.log(train[train.label == 1].n_char), kde=False, hist=False, fit=norm, fit_kws={'color': 'r', 'label': 'Spam'})\n",
    "sns.distplot(np.log(train[train.label == 0].n_char), kde=False, hist=False, fit=norm, fit_kws={'color': 'g', 'label': 'Not Spam'})\n",
    "plt.legend()\n",
    "plt.xlabel('log(n_char)')\n",
    "plt.ylabel('density')\n",
    "plt.savefig('by_length.eps', format='eps', dpi=1000)\n",
    "plt.show()"
   ]
  },
  {
   "cell_type": "code",
   "execution_count": 8,
   "metadata": {
    "collapsed": true
   },
   "outputs": [],
   "source": [
    "train.to_pickle('data/train.p')\n",
    "validate.to_pickle('data/validate.p')\n",
    "test.to_pickle('data/test.p')"
   ]
  },
  {
   "cell_type": "markdown",
   "metadata": {},
   "source": [
    "# Experiments"
   ]
  },
  {
   "cell_type": "code",
   "execution_count": 17,
   "metadata": {
    "collapsed": true
   },
   "outputs": [],
   "source": [
    "train = pd.read_pickle('data/train.p')\n",
    "validate = pd.read_pickle('data/validate.p')\n",
    "test = pd.read_pickle('data/test.p')"
   ]
  },
  {
   "cell_type": "code",
   "execution_count": 6,
   "metadata": {
    "collapsed": false
   },
   "outputs": [],
   "source": [
    "PARAM_DISTRIBS = {\n",
    "    BernoulliNB: {\n",
    "        'fit_prior': [True, False],\n",
    "    },\n",
    "    GaussianNB: {},\n",
    "    SVC: {\n",
    "        'C': [2**e for e in [-5, -3, 0, 3, 5, 7, 9]],\n",
    "        'gamma': [2**e for e in [-9, -7, -5, -3, 0, 3, 5, 7, 9]],\n",
    "    },\n",
    "    XGBClassifier: {\n",
    "        'n_estimators': [10, 20, 50, 100],\n",
    "        'subsample': [0.5, 0.6, 0.7, 0.8, 0.9, 1.],\n",
    "        'colsample_bytree': [0.5, 0.6, 0.7, 0.8, 0.9, 1.],\n",
    "        'reg_alpha': [0., 0.001, 0.005, 0.01, 0.05, 0.1, 0.5, 1., 5., 10.],\n",
    "        'reg_lambda': [0., 0.001, 0.005, 0.01, 0.05, 0.1, 0.5, 1., 5., 10.],\n",
    "        'scale_pos_weight': np.linspace(1., (train['label'] == 0).sum() / train['label'].sum(), 10)\n",
    "    },\n",
    "}\n",
    "\n",
    "f = [\n",
    "    'n_token',\n",
    "    'n_capital',\n",
    "    'n_emoji',\n",
    "    'n_unique_emoji',\n",
    "    'n_number',\n",
    "    'n_mention',\n",
    "    '%_capital',\n",
    "    '%_number',\n",
    "    '%_emoji',\n",
    "    '%_unique_emoji',\n",
    "    'log_char',\n",
    "    'has_phone_number',\n",
    "    'has_bbm_pin',\n",
    "]\n",
    "\n",
    "keywords = list(map(lambda x: 'has_pattern_' + x, feature_eng.SPAMMY_PATTERNS))"
   ]
  },
  {
   "cell_type": "code",
   "execution_count": 7,
   "metadata": {
    "collapsed": true
   },
   "outputs": [],
   "source": [
    "def classify(X_train, y_train, X_val, y_val, classifiers):\n",
    "    metrics = []\n",
    "    for name, clf in classifiers:\n",
    "        clf.fit(X_train, y_train)\n",
    "\n",
    "        predicted = clf.predict(X_val)\n",
    "\n",
    "        precision = precision_score(y_val, predicted)\n",
    "        recall = recall_score(y_val, predicted)\n",
    "        f1 = f1_score(y_val, predicted)\n",
    "\n",
    "        metrics.append([name, precision, recall, f1])\n",
    "\n",
    "    return pd.DataFrame(metrics, columns=['classifier','precision','recall','f1']).set_index('classifier') * 100\n",
    "\n",
    "\n",
    "def classify(X_train, y_train, X_val, y_val, clf_class, param_grid=None, n_iter=100, rand_seed=None):\n",
    "    if clf_class == SVC:\n",
    "        scaler = MinMaxScaler(feature_range=(0., 1.))\n",
    "        X_train = scaler.fit_transform(X_train)\n",
    "        X_val = scaler.transform(X_val)\n",
    "        \n",
    "    X_train, y_train = np.array(X_train), np.array(y_train)\n",
    "    X_val, y_val = np.array(X_val), np.array(y_val)\n",
    "    \n",
    "    if not param_grid:\n",
    "        param_grid = PARAM_DISTRIBS[clf_class]\n",
    "    n_iter = min(n_iter, len(ParameterGrid(param_grid)))\n",
    "    \n",
    "    clf = RandomizedSearchCV(clf_class(), param_grid, n_iter=n_iter, n_jobs=4, cv=2, scoring='f1', random_state=rand_seed)\n",
    "    clf.fit(X_train, y_train)\n",
    "    \n",
    "    y_pred = clf.predict(X_val)\n",
    "    precision, recall, f1, _ = precision_recall_fscore_support(y_val, y_pred, warn_for=())\n",
    "    return clf.best_params_, {'precision': precision[1], 'recall': recall[1], 'f1': f1[1]}\n",
    "\n",
    "def classify_multiple_clfs(X_train, y_train, X_val, y_val, clf_classes, cls_param_grids=None, n_iter=100, rand_seed=None):\n",
    "    if not cls_param_grids:\n",
    "        cls_param_grids = dict()\n",
    "    \n",
    "    result = {cls: classify(X_train, y_train, X_val, y_val, cls, param_grid=cls_param_grids.get(cls), n_iter=n_iter, rand_seed=rand_seed) for cls in clf_classes}\n",
    "    best_params = {cls: res[0] for cls, res in result.items()}\n",
    "    \n",
    "    metrics = pd.DataFrame({cls: res[1] for cls, res in result.items()}).T\n",
    "    metrics.index = [_.__name__ for _ in metrics.index]\n",
    "    metrics = metrics.sort_index()\n",
    "    \n",
    "    return best_params, metrics"
   ]
  },
  {
   "cell_type": "code",
   "execution_count": 8,
   "metadata": {
    "collapsed": true
   },
   "outputs": [],
   "source": [
    "X_train_orig = pd.concat([train, validate], ignore_index=True)\n",
    "y_train = X_train_orig['label']\n",
    "y_test = test['label']"
   ]
  },
  {
   "cell_type": "code",
   "execution_count": 9,
   "metadata": {
    "collapsed": true
   },
   "outputs": [],
   "source": [
    "import warnings\n",
    "warnings.filterwarnings('ignore', message='.*is ill-defined', append=True)\n",
    "warnings.filterwarnings('ignore', category=DeprecationWarning)"
   ]
  },
  {
   "cell_type": "markdown",
   "metadata": {},
   "source": [
    "## A: Hand-engineered features"
   ]
  },
  {
   "cell_type": "markdown",
   "metadata": {},
   "source": [
    "### Basic"
   ]
  },
  {
   "cell_type": "code",
   "execution_count": 10,
   "metadata": {
    "collapsed": false
   },
   "outputs": [
    {
     "data": {
      "text/html": [
       "<div>\n",
       "<table border=\"1\" class=\"dataframe\">\n",
       "  <thead>\n",
       "    <tr style=\"text-align: right;\">\n",
       "      <th></th>\n",
       "      <th>f1</th>\n",
       "      <th>precision</th>\n",
       "      <th>recall</th>\n",
       "    </tr>\n",
       "  </thead>\n",
       "  <tbody>\n",
       "    <tr>\n",
       "      <th>GaussianNB</th>\n",
       "      <td>0.666667</td>\n",
       "      <td>0.690217</td>\n",
       "      <td>0.644670</td>\n",
       "    </tr>\n",
       "    <tr>\n",
       "      <th>SVC</th>\n",
       "      <td>0.768778</td>\n",
       "      <td>0.915789</td>\n",
       "      <td>0.662437</td>\n",
       "    </tr>\n",
       "    <tr>\n",
       "      <th>XGBClassifier</th>\n",
       "      <td>0.777457</td>\n",
       "      <td>0.902685</td>\n",
       "      <td>0.682741</td>\n",
       "    </tr>\n",
       "  </tbody>\n",
       "</table>\n",
       "</div>"
      ],
      "text/plain": [
       "                     f1  precision    recall\n",
       "GaussianNB     0.666667   0.690217  0.644670\n",
       "SVC            0.768778   0.915789  0.662437\n",
       "XGBClassifier  0.777457   0.902685  0.682741"
      ]
     },
     "execution_count": 10,
     "metadata": {},
     "output_type": "execute_result"
    }
   ],
   "source": [
    "X_train, X_test = X_train_orig[f], test[f]\n",
    "\n",
    "best_params_basic, metrics_basic = classify_multiple_clfs(X_train, y_train, X_test, y_test,\n",
    "                                                          [GaussianNB, SVC, XGBClassifier],\n",
    "                                                          n_iter=N_ITER_TUNING, rand_seed=RAND_SEED_TUNING)\n",
    "metrics_basic"
   ]
  },
  {
   "cell_type": "markdown",
   "metadata": {},
   "source": [
    "### Keywords"
   ]
  },
  {
   "cell_type": "code",
   "execution_count": 11,
   "metadata": {
    "collapsed": false
   },
   "outputs": [
    {
     "data": {
      "text/html": [
       "<div>\n",
       "<table border=\"1\" class=\"dataframe\">\n",
       "  <thead>\n",
       "    <tr style=\"text-align: right;\">\n",
       "      <th></th>\n",
       "      <th>f1</th>\n",
       "      <th>precision</th>\n",
       "      <th>recall</th>\n",
       "    </tr>\n",
       "  </thead>\n",
       "  <tbody>\n",
       "    <tr>\n",
       "      <th>BernoulliNB</th>\n",
       "      <td>0.839080</td>\n",
       "      <td>0.966887</td>\n",
       "      <td>0.741117</td>\n",
       "    </tr>\n",
       "    <tr>\n",
       "      <th>SVC</th>\n",
       "      <td>0.872629</td>\n",
       "      <td>0.936047</td>\n",
       "      <td>0.817259</td>\n",
       "    </tr>\n",
       "    <tr>\n",
       "      <th>XGBClassifier</th>\n",
       "      <td>0.865465</td>\n",
       "      <td>0.954128</td>\n",
       "      <td>0.791878</td>\n",
       "    </tr>\n",
       "  </tbody>\n",
       "</table>\n",
       "</div>"
      ],
      "text/plain": [
       "                     f1  precision    recall\n",
       "BernoulliNB    0.839080   0.966887  0.741117\n",
       "SVC            0.872629   0.936047  0.817259\n",
       "XGBClassifier  0.865465   0.954128  0.791878"
      ]
     },
     "execution_count": 11,
     "metadata": {},
     "output_type": "execute_result"
    }
   ],
   "source": [
    "X_train, X_test = X_train_orig[keywords], test[keywords]\n",
    "\n",
    "best_params_keywords, metrics_keywords = classify_multiple_clfs(X_train, y_train, X_test, y_test,\n",
    "                                                                [BernoulliNB, SVC, XGBClassifier],\n",
    "                                                                n_iter=N_ITER_TUNING, rand_seed=RAND_SEED_TUNING)\n",
    "metrics_keywords"
   ]
  },
  {
   "cell_type": "markdown",
   "metadata": {},
   "source": [
    "### Basic + Keywords"
   ]
  },
  {
   "cell_type": "code",
   "execution_count": 12,
   "metadata": {
    "collapsed": false
   },
   "outputs": [
    {
     "data": {
      "text/html": [
       "<div>\n",
       "<table border=\"1\" class=\"dataframe\">\n",
       "  <thead>\n",
       "    <tr style=\"text-align: right;\">\n",
       "      <th></th>\n",
       "      <th>f1</th>\n",
       "      <th>precision</th>\n",
       "      <th>recall</th>\n",
       "    </tr>\n",
       "  </thead>\n",
       "  <tbody>\n",
       "    <tr>\n",
       "      <th>GaussianNB</th>\n",
       "      <td>0.877193</td>\n",
       "      <td>0.866337</td>\n",
       "      <td>0.888325</td>\n",
       "    </tr>\n",
       "    <tr>\n",
       "      <th>SVC</th>\n",
       "      <td>0.909333</td>\n",
       "      <td>0.957865</td>\n",
       "      <td>0.865482</td>\n",
       "    </tr>\n",
       "    <tr>\n",
       "      <th>XGBClassifier</th>\n",
       "      <td>0.908851</td>\n",
       "      <td>0.947658</td>\n",
       "      <td>0.873096</td>\n",
       "    </tr>\n",
       "  </tbody>\n",
       "</table>\n",
       "</div>"
      ],
      "text/plain": [
       "                     f1  precision    recall\n",
       "GaussianNB     0.877193   0.866337  0.888325\n",
       "SVC            0.909333   0.957865  0.865482\n",
       "XGBClassifier  0.908851   0.947658  0.873096"
      ]
     },
     "execution_count": 12,
     "metadata": {},
     "output_type": "execute_result"
    }
   ],
   "source": [
    "X_train, X_test = X_train_orig[f + keywords], test[f + keywords]\n",
    "\n",
    "best_params_A, metrics_A = classify_multiple_clfs(X_train, y_train, X_test, y_test,\n",
    "                                                  [GaussianNB, SVC, XGBClassifier],\n",
    "                                                  n_iter=N_ITER_TUNING, rand_seed=RAND_SEED_TUNING)\n",
    "metrics_A"
   ]
  },
  {
   "cell_type": "markdown",
   "metadata": {},
   "source": [
    "## B: Text features"
   ]
  },
  {
   "cell_type": "markdown",
   "metadata": {},
   "source": [
    "### BoW"
   ]
  },
  {
   "cell_type": "code",
   "execution_count": 13,
   "metadata": {
    "collapsed": false
   },
   "outputs": [
    {
     "data": {
      "text/html": [
       "<div>\n",
       "<table border=\"1\" class=\"dataframe\">\n",
       "  <thead>\n",
       "    <tr style=\"text-align: right;\">\n",
       "      <th></th>\n",
       "      <th>f1</th>\n",
       "      <th>precision</th>\n",
       "      <th>recall</th>\n",
       "    </tr>\n",
       "  </thead>\n",
       "  <tbody>\n",
       "    <tr>\n",
       "      <th>GaussianNB</th>\n",
       "      <td>0.536100</td>\n",
       "      <td>0.398274</td>\n",
       "      <td>0.819797</td>\n",
       "    </tr>\n",
       "    <tr>\n",
       "      <th>SVC</th>\n",
       "      <td>0.907357</td>\n",
       "      <td>0.979412</td>\n",
       "      <td>0.845178</td>\n",
       "    </tr>\n",
       "    <tr>\n",
       "      <th>XGBClassifier</th>\n",
       "      <td>0.912145</td>\n",
       "      <td>0.928947</td>\n",
       "      <td>0.895939</td>\n",
       "    </tr>\n",
       "  </tbody>\n",
       "</table>\n",
       "</div>"
      ],
      "text/plain": [
       "                     f1  precision    recall\n",
       "GaussianNB     0.536100   0.398274  0.819797\n",
       "SVC            0.907357   0.979412  0.845178\n",
       "XGBClassifier  0.912145   0.928947  0.895939"
      ]
     },
     "execution_count": 13,
     "metadata": {},
     "output_type": "execute_result"
    }
   ],
   "source": [
    "bow_pipeline = Pipeline([\n",
    "        ('CountVectorizer', CountVectorizer(min_df=5, binary=True)),\n",
    "        ('LSA', TruncatedSVD(n_components=100)),\n",
    "    ])\n",
    "bow_pipeline.fit(train['text'])\n",
    "\n",
    "X_train_bow, X_test_bow = bow_pipeline.transform(X_train_orig['text']), bow_pipeline.transform(test['text'])\n",
    "\n",
    "best_params_bow, metrics_bow = classify_multiple_clfs(X_train_bow, y_train, X_test_bow, y_test,\n",
    "                                                        [GaussianNB, SVC, XGBClassifier],\n",
    "                                                        n_iter=N_ITER_TUNING, rand_seed=RAND_SEED_TUNING)\n",
    "metrics_bow"
   ]
  },
  {
   "cell_type": "markdown",
   "metadata": {},
   "source": [
    "### TFIDF"
   ]
  },
  {
   "cell_type": "code",
   "execution_count": 23,
   "metadata": {
    "collapsed": false
   },
   "outputs": [
    {
     "data": {
      "text/html": [
       "<div>\n",
       "<table border=\"1\" class=\"dataframe\">\n",
       "  <thead>\n",
       "    <tr style=\"text-align: right;\">\n",
       "      <th></th>\n",
       "      <th>f1</th>\n",
       "      <th>precision</th>\n",
       "      <th>recall</th>\n",
       "    </tr>\n",
       "  </thead>\n",
       "  <tbody>\n",
       "    <tr>\n",
       "      <th>GaussianNB</th>\n",
       "      <td>0.238520</td>\n",
       "      <td>0.136397</td>\n",
       "      <td>0.949239</td>\n",
       "    </tr>\n",
       "    <tr>\n",
       "      <th>SVC</th>\n",
       "      <td>0.907407</td>\n",
       "      <td>0.947514</td>\n",
       "      <td>0.870558</td>\n",
       "    </tr>\n",
       "    <tr>\n",
       "      <th>XGBClassifier</th>\n",
       "      <td>0.908861</td>\n",
       "      <td>0.906566</td>\n",
       "      <td>0.911168</td>\n",
       "    </tr>\n",
       "  </tbody>\n",
       "</table>\n",
       "</div>"
      ],
      "text/plain": [
       "                     f1  precision    recall\n",
       "GaussianNB     0.238520   0.136397  0.949239\n",
       "SVC            0.907407   0.947514  0.870558\n",
       "XGBClassifier  0.908861   0.906566  0.911168"
      ]
     },
     "execution_count": 23,
     "metadata": {},
     "output_type": "execute_result"
    }
   ],
   "source": [
    "tfidf_pipeline = Pipeline([\n",
    "        ('TfidfVectorizer', TfidfVectorizer(min_df=5)),\n",
    "        ('LSA', TruncatedSVD(n_components=100)),\n",
    "    ])\n",
    "tfidf_pipeline.fit(train['text'])\n",
    "\n",
    "X_train_tfidf, X_test_tfidf = tfidf_pipeline.transform(X_train_orig['text']), tfidf_pipeline.transform(test['text'])\n",
    "\n",
    "best_params_tfidf, metrics_tfidf = classify_multiple_clfs(X_train_tfidf, y_train, X_test_tfidf, y_test,\n",
    "                                                        [GaussianNB, SVC, XGBClassifier],\n",
    "                                                        n_iter=N_ITER_TUNING, rand_seed=RAND_SEED_TUNING)\n",
    "metrics_tfidf"
   ]
  },
  {
   "cell_type": "markdown",
   "metadata": {},
   "source": [
    "### Fasttext"
   ]
  },
  {
   "cell_type": "code",
   "execution_count": 24,
   "metadata": {
    "collapsed": true
   },
   "outputs": [],
   "source": [
    "# ftext_skipgram = feature_eng.train_model_fasttext(feature_eng.tokenize(train['text']),\n",
    "#                                                   file_in='tmp/fasttext_train.txt',\n",
    "#                                                   path_out='models/fasttext_skipgram')"
   ]
  },
  {
   "cell_type": "code",
   "execution_count": 25,
   "metadata": {
    "collapsed": false
   },
   "outputs": [
    {
     "data": {
      "text/html": [
       "<div>\n",
       "<table border=\"1\" class=\"dataframe\">\n",
       "  <thead>\n",
       "    <tr style=\"text-align: right;\">\n",
       "      <th></th>\n",
       "      <th>f1</th>\n",
       "      <th>precision</th>\n",
       "      <th>recall</th>\n",
       "    </tr>\n",
       "  </thead>\n",
       "  <tbody>\n",
       "    <tr>\n",
       "      <th>GaussianNB</th>\n",
       "      <td>0.824945</td>\n",
       "      <td>0.725000</td>\n",
       "      <td>0.956853</td>\n",
       "    </tr>\n",
       "    <tr>\n",
       "      <th>SVC</th>\n",
       "      <td>0.939821</td>\n",
       "      <td>0.948320</td>\n",
       "      <td>0.931472</td>\n",
       "    </tr>\n",
       "    <tr>\n",
       "      <th>XGBClassifier</th>\n",
       "      <td>0.924841</td>\n",
       "      <td>0.928389</td>\n",
       "      <td>0.921320</td>\n",
       "    </tr>\n",
       "  </tbody>\n",
       "</table>\n",
       "</div>"
      ],
      "text/plain": [
       "                     f1  precision    recall\n",
       "GaussianNB     0.824945   0.725000  0.956853\n",
       "SVC            0.939821   0.948320  0.931472\n",
       "XGBClassifier  0.924841   0.928389  0.921320"
      ]
     },
     "execution_count": 25,
     "metadata": {},
     "output_type": "execute_result"
    }
   ],
   "source": [
    "# Fasttext\n",
    "X_train_ftext = feature_eng.extract_fasttext(X_train_orig['text'], fpath_model='models/fasttext_skipgram.bin').reset_index(drop=True)\n",
    "X_test_ftext = feature_eng.extract_fasttext(test['text'], fpath_model='models/fasttext_skipgram.bin').reset_index(drop=True)\n",
    "\n",
    "best_params_ftext, metrics_ftext = classify_multiple_clfs(X_train_ftext, y_train, X_test_ftext, y_test,\n",
    "                                                            [GaussianNB, SVC, XGBClassifier],\n",
    "                                                            n_iter=N_ITER_TUNING, rand_seed=RAND_SEED_TUNING)\n",
    "metrics_ftext"
   ]
  },
  {
   "cell_type": "markdown",
   "metadata": {},
   "source": [
    "## C: Hand-engineered + text features"
   ]
  },
  {
   "cell_type": "markdown",
   "metadata": {},
   "source": [
    "### BoW + Basic"
   ]
  },
  {
   "cell_type": "code",
   "execution_count": 26,
   "metadata": {
    "collapsed": false
   },
   "outputs": [
    {
     "data": {
      "text/html": [
       "<div>\n",
       "<table border=\"1\" class=\"dataframe\">\n",
       "  <thead>\n",
       "    <tr style=\"text-align: right;\">\n",
       "      <th></th>\n",
       "      <th>f1</th>\n",
       "      <th>precision</th>\n",
       "      <th>recall</th>\n",
       "    </tr>\n",
       "  </thead>\n",
       "  <tbody>\n",
       "    <tr>\n",
       "      <th>GaussianNB</th>\n",
       "      <td>0.580247</td>\n",
       "      <td>0.444595</td>\n",
       "      <td>0.835025</td>\n",
       "    </tr>\n",
       "    <tr>\n",
       "      <th>SVC</th>\n",
       "      <td>0.939948</td>\n",
       "      <td>0.967742</td>\n",
       "      <td>0.913706</td>\n",
       "    </tr>\n",
       "    <tr>\n",
       "      <th>XGBClassifier</th>\n",
       "      <td>0.926829</td>\n",
       "      <td>0.937662</td>\n",
       "      <td>0.916244</td>\n",
       "    </tr>\n",
       "  </tbody>\n",
       "</table>\n",
       "</div>"
      ],
      "text/plain": [
       "                     f1  precision    recall\n",
       "GaussianNB     0.580247   0.444595  0.835025\n",
       "SVC            0.939948   0.967742  0.913706\n",
       "XGBClassifier  0.926829   0.937662  0.916244"
      ]
     },
     "execution_count": 26,
     "metadata": {},
     "output_type": "execute_result"
    }
   ],
   "source": [
    "X_train = pd.concat([pd.DataFrame(X_train_bow), X_train_orig[f]], axis=1)\n",
    "X_test = pd.concat([pd.DataFrame(X_test_bow), test[f]], axis=1)\n",
    "\n",
    "best_params_bow_f, metrics_bow_f = classify_multiple_clfs(X_train, y_train, X_test, y_test,\n",
    "                                                          [GaussianNB, SVC, XGBClassifier],\n",
    "                                                          n_iter=N_ITER_TUNING, rand_seed=RAND_SEED_TUNING)\n",
    "metrics_bow_f"
   ]
  },
  {
   "cell_type": "markdown",
   "metadata": {},
   "source": [
    "### BoW + Basic + Keywords"
   ]
  },
  {
   "cell_type": "code",
   "execution_count": 27,
   "metadata": {
    "collapsed": false
   },
   "outputs": [
    {
     "data": {
      "text/html": [
       "<div>\n",
       "<table border=\"1\" class=\"dataframe\">\n",
       "  <thead>\n",
       "    <tr style=\"text-align: right;\">\n",
       "      <th></th>\n",
       "      <th>f1</th>\n",
       "      <th>precision</th>\n",
       "      <th>recall</th>\n",
       "    </tr>\n",
       "  </thead>\n",
       "  <tbody>\n",
       "    <tr>\n",
       "      <th>GaussianNB</th>\n",
       "      <td>0.736621</td>\n",
       "      <td>0.627907</td>\n",
       "      <td>0.890863</td>\n",
       "    </tr>\n",
       "    <tr>\n",
       "      <th>SVC</th>\n",
       "      <td>0.930851</td>\n",
       "      <td>0.977654</td>\n",
       "      <td>0.888325</td>\n",
       "    </tr>\n",
       "    <tr>\n",
       "      <th>XGBClassifier</th>\n",
       "      <td>0.938144</td>\n",
       "      <td>0.952880</td>\n",
       "      <td>0.923858</td>\n",
       "    </tr>\n",
       "  </tbody>\n",
       "</table>\n",
       "</div>"
      ],
      "text/plain": [
       "                     f1  precision    recall\n",
       "GaussianNB     0.736621   0.627907  0.890863\n",
       "SVC            0.930851   0.977654  0.888325\n",
       "XGBClassifier  0.938144   0.952880  0.923858"
      ]
     },
     "execution_count": 27,
     "metadata": {},
     "output_type": "execute_result"
    }
   ],
   "source": [
    "X_train = pd.concat([pd.DataFrame(X_train_bow), X_train_orig[f + keywords]], axis=1)\n",
    "X_test = pd.concat([pd.DataFrame(X_test_bow), test[f + keywords]], axis=1)\n",
    "\n",
    "best_params_bow_f_keywords, metrics_bow_f_keywords = classify_multiple_clfs(X_train, y_train, X_test, y_test,\n",
    "                                                                            [GaussianNB, SVC, XGBClassifier],\n",
    "                                                                            n_iter=N_ITER_TUNING,\n",
    "                                                                            rand_seed=RAND_SEED_TUNING)\n",
    "metrics_bow_f_keywords"
   ]
  },
  {
   "cell_type": "markdown",
   "metadata": {},
   "source": [
    "### TFIDF + Basic"
   ]
  },
  {
   "cell_type": "code",
   "execution_count": 28,
   "metadata": {
    "collapsed": false
   },
   "outputs": [
    {
     "data": {
      "text/html": [
       "<div>\n",
       "<table border=\"1\" class=\"dataframe\">\n",
       "  <thead>\n",
       "    <tr style=\"text-align: right;\">\n",
       "      <th></th>\n",
       "      <th>f1</th>\n",
       "      <th>precision</th>\n",
       "      <th>recall</th>\n",
       "    </tr>\n",
       "  </thead>\n",
       "  <tbody>\n",
       "    <tr>\n",
       "      <th>GaussianNB</th>\n",
       "      <td>0.733119</td>\n",
       "      <td>0.634508</td>\n",
       "      <td>0.868020</td>\n",
       "    </tr>\n",
       "    <tr>\n",
       "      <th>SVC</th>\n",
       "      <td>0.937337</td>\n",
       "      <td>0.965054</td>\n",
       "      <td>0.911168</td>\n",
       "    </tr>\n",
       "    <tr>\n",
       "      <th>XGBClassifier</th>\n",
       "      <td>0.937738</td>\n",
       "      <td>0.938931</td>\n",
       "      <td>0.936548</td>\n",
       "    </tr>\n",
       "  </tbody>\n",
       "</table>\n",
       "</div>"
      ],
      "text/plain": [
       "                     f1  precision    recall\n",
       "GaussianNB     0.733119   0.634508  0.868020\n",
       "SVC            0.937337   0.965054  0.911168\n",
       "XGBClassifier  0.937738   0.938931  0.936548"
      ]
     },
     "execution_count": 28,
     "metadata": {},
     "output_type": "execute_result"
    }
   ],
   "source": [
    "X_train = pd.concat([pd.DataFrame(X_train_tfidf), X_train_orig[f]], axis=1)\n",
    "X_test = pd.concat([pd.DataFrame(X_test_tfidf), test[f]], axis=1)\n",
    "\n",
    "best_params_tfidf_f, metrics_tfidf_f = classify_multiple_clfs(X_train, y_train, X_test, y_test,\n",
    "                                                              [GaussianNB, SVC, XGBClassifier],\n",
    "                                                              n_iter=N_ITER_TUNING, rand_seed=RAND_SEED_TUNING)\n",
    "metrics_tfidf_f"
   ]
  },
  {
   "cell_type": "markdown",
   "metadata": {},
   "source": [
    "### TFIDF + Basic + Keywords"
   ]
  },
  {
   "cell_type": "code",
   "execution_count": 29,
   "metadata": {
    "collapsed": false
   },
   "outputs": [
    {
     "data": {
      "text/html": [
       "<div>\n",
       "<table border=\"1\" class=\"dataframe\">\n",
       "  <thead>\n",
       "    <tr style=\"text-align: right;\">\n",
       "      <th></th>\n",
       "      <th>f1</th>\n",
       "      <th>precision</th>\n",
       "      <th>recall</th>\n",
       "    </tr>\n",
       "  </thead>\n",
       "  <tbody>\n",
       "    <tr>\n",
       "      <th>GaussianNB</th>\n",
       "      <td>0.881773</td>\n",
       "      <td>0.856459</td>\n",
       "      <td>0.908629</td>\n",
       "    </tr>\n",
       "    <tr>\n",
       "      <th>SVC</th>\n",
       "      <td>0.934896</td>\n",
       "      <td>0.959893</td>\n",
       "      <td>0.911168</td>\n",
       "    </tr>\n",
       "    <tr>\n",
       "      <th>XGBClassifier</th>\n",
       "      <td>0.943590</td>\n",
       "      <td>0.953368</td>\n",
       "      <td>0.934010</td>\n",
       "    </tr>\n",
       "  </tbody>\n",
       "</table>\n",
       "</div>"
      ],
      "text/plain": [
       "                     f1  precision    recall\n",
       "GaussianNB     0.881773   0.856459  0.908629\n",
       "SVC            0.934896   0.959893  0.911168\n",
       "XGBClassifier  0.943590   0.953368  0.934010"
      ]
     },
     "execution_count": 29,
     "metadata": {},
     "output_type": "execute_result"
    }
   ],
   "source": [
    "X_train = pd.concat([pd.DataFrame(X_train_tfidf), X_train_orig[f + keywords]], axis=1)\n",
    "X_test = pd.concat([pd.DataFrame(X_test_tfidf), test[f + keywords]], axis=1)\n",
    "\n",
    "best_params_tfidf_f_keywords, metrics_tfidf_f_keywords = classify_multiple_clfs(X_train, y_train, X_test, y_test,\n",
    "                                                                                [GaussianNB, SVC, XGBClassifier],\n",
    "                                                                                n_iter=N_ITER_TUNING,\n",
    "                                                                                rand_seed=RAND_SEED_TUNING)\n",
    "metrics_tfidf_f_keywords"
   ]
  },
  {
   "cell_type": "markdown",
   "metadata": {},
   "source": [
    "### Fasttext + Basic"
   ]
  },
  {
   "cell_type": "code",
   "execution_count": 43,
   "metadata": {
    "collapsed": false
   },
   "outputs": [
    {
     "data": {
      "text/html": [
       "<div>\n",
       "<table border=\"1\" class=\"dataframe\">\n",
       "  <thead>\n",
       "    <tr style=\"text-align: right;\">\n",
       "      <th></th>\n",
       "      <th>f1</th>\n",
       "      <th>precision</th>\n",
       "      <th>recall</th>\n",
       "    </tr>\n",
       "  </thead>\n",
       "  <tbody>\n",
       "    <tr>\n",
       "      <th>GaussianNB</th>\n",
       "      <td>0.862109</td>\n",
       "      <td>0.793177</td>\n",
       "      <td>0.944162</td>\n",
       "    </tr>\n",
       "    <tr>\n",
       "      <th>SVC</th>\n",
       "      <td>0.952258</td>\n",
       "      <td>0.968504</td>\n",
       "      <td>0.936548</td>\n",
       "    </tr>\n",
       "    <tr>\n",
       "      <th>XGBClassifier</th>\n",
       "      <td>0.951189</td>\n",
       "      <td>0.938272</td>\n",
       "      <td>0.964467</td>\n",
       "    </tr>\n",
       "  </tbody>\n",
       "</table>\n",
       "</div>"
      ],
      "text/plain": [
       "                     f1  precision    recall\n",
       "GaussianNB     0.862109   0.793177  0.944162\n",
       "SVC            0.952258   0.968504  0.936548\n",
       "XGBClassifier  0.951189   0.938272  0.964467"
      ]
     },
     "execution_count": 43,
     "metadata": {},
     "output_type": "execute_result"
    }
   ],
   "source": [
    "X_train = pd.concat([pd.DataFrame(X_train_ftext), X_train_orig[f]], axis=1)\n",
    "X_test = pd.concat([pd.DataFrame(X_test_ftext), test[f]], axis=1)\n",
    "\n",
    "best_params_ftext_f, metrics_ftext_f = classify_multiple_clfs(X_train, y_train, X_test, y_test,\n",
    "                                                              [GaussianNB, SVC, XGBClassifier],\n",
    "                                                              n_iter=N_ITER_TUNING, rand_seed=RAND_SEED_TUNING)\n",
    "metrics_ftext_f"
   ]
  },
  {
   "cell_type": "markdown",
   "metadata": {},
   "source": [
    "### Fasttext + Basic + Keywords"
   ]
  },
  {
   "cell_type": "code",
   "execution_count": 31,
   "metadata": {
    "collapsed": false
   },
   "outputs": [
    {
     "data": {
      "text/html": [
       "<div>\n",
       "<table border=\"1\" class=\"dataframe\">\n",
       "  <thead>\n",
       "    <tr style=\"text-align: right;\">\n",
       "      <th></th>\n",
       "      <th>f1</th>\n",
       "      <th>precision</th>\n",
       "      <th>recall</th>\n",
       "    </tr>\n",
       "  </thead>\n",
       "  <tbody>\n",
       "    <tr>\n",
       "      <th>GaussianNB</th>\n",
       "      <td>0.880096</td>\n",
       "      <td>0.834091</td>\n",
       "      <td>0.931472</td>\n",
       "    </tr>\n",
       "    <tr>\n",
       "      <th>SVC</th>\n",
       "      <td>0.960103</td>\n",
       "      <td>0.973890</td>\n",
       "      <td>0.946701</td>\n",
       "    </tr>\n",
       "    <tr>\n",
       "      <th>XGBClassifier</th>\n",
       "      <td>0.951189</td>\n",
       "      <td>0.938272</td>\n",
       "      <td>0.964467</td>\n",
       "    </tr>\n",
       "  </tbody>\n",
       "</table>\n",
       "</div>"
      ],
      "text/plain": [
       "                     f1  precision    recall\n",
       "GaussianNB     0.880096   0.834091  0.931472\n",
       "SVC            0.960103   0.973890  0.946701\n",
       "XGBClassifier  0.951189   0.938272  0.964467"
      ]
     },
     "execution_count": 31,
     "metadata": {},
     "output_type": "execute_result"
    }
   ],
   "source": [
    "X_train = pd.concat([pd.DataFrame(X_train_ftext), X_train_orig[f + keywords]], axis=1)\n",
    "X_test = pd.concat([pd.DataFrame(X_test_ftext), test[f + keywords]], axis=1)\n",
    "\n",
    "best_params_ftext_f_keywords, metrics_ftext_f_keywords = classify_multiple_clfs(X_train, y_train, X_test, y_test,\n",
    "                                                              [GaussianNB, SVC, XGBClassifier],\n",
    "                                                              n_iter=N_ITER_TUNING, rand_seed=RAND_SEED_TUNING)\n",
    "metrics_ftext_f_keywords"
   ]
  },
  {
   "cell_type": "markdown",
   "metadata": {},
   "source": [
    "## All params for reproduction"
   ]
  },
  {
   "cell_type": "code",
   "execution_count": 51,
   "metadata": {
    "collapsed": false
   },
   "outputs": [
    {
     "data": {
      "text/plain": [
       "{sklearn.naive_bayes.GaussianNB: {},\n",
       " sklearn.svm.classes.SVC: {'C': 1, 'gamma': 32},\n",
       " xgboost.sklearn.XGBClassifier: {'colsample_bytree': 0.9,\n",
       "  'n_estimators': 100,\n",
       "  'reg_alpha': 0.001,\n",
       "  'reg_lambda': 0.01,\n",
       "  'scale_pos_weight': 1.0,\n",
       "  'subsample': 0.6}}"
      ]
     },
     "execution_count": 51,
     "metadata": {},
     "output_type": "execute_result"
    }
   ],
   "source": [
    "best_params_basic"
   ]
  },
  {
   "cell_type": "code",
   "execution_count": 52,
   "metadata": {
    "collapsed": false
   },
   "outputs": [
    {
     "data": {
      "text/plain": [
       "{xgboost.sklearn.XGBClassifier: {'colsample_bytree': 0.8,\n",
       "  'n_estimators': 100,\n",
       "  'reg_alpha': 0.005,\n",
       "  'reg_lambda': 0.0,\n",
       "  'scale_pos_weight': 2.2769652650822669,\n",
       "  'subsample': 0.9},\n",
       " sklearn.svm.classes.SVC: {'C': 0.125, 'gamma': 1},\n",
       " sklearn.naive_bayes.BernoulliNB: {'fit_prior': True}}"
      ]
     },
     "execution_count": 52,
     "metadata": {},
     "output_type": "execute_result"
    }
   ],
   "source": [
    "best_params_keywords"
   ]
  },
  {
   "cell_type": "code",
   "execution_count": 53,
   "metadata": {
    "collapsed": false
   },
   "outputs": [
    {
     "data": {
      "text/plain": [
       "{sklearn.naive_bayes.GaussianNB: {},\n",
       " sklearn.svm.classes.SVC: {'C': 32, 'gamma': 8},\n",
       " xgboost.sklearn.XGBClassifier: {'colsample_bytree': 0.8,\n",
       "  'n_estimators': 100,\n",
       "  'reg_alpha': 0.005,\n",
       "  'reg_lambda': 0.0,\n",
       "  'scale_pos_weight': 2.2769652650822669,\n",
       "  'subsample': 0.9}}"
      ]
     },
     "execution_count": 53,
     "metadata": {},
     "output_type": "execute_result"
    }
   ],
   "source": [
    "best_params_A"
   ]
  },
  {
   "cell_type": "code",
   "execution_count": 54,
   "metadata": {
    "collapsed": false
   },
   "outputs": [
    {
     "data": {
      "text/plain": [
       "{sklearn.naive_bayes.GaussianNB: {},\n",
       " sklearn.svm.classes.SVC: {'C': 32, 'gamma': 0.125},\n",
       " xgboost.sklearn.XGBClassifier: {'colsample_bytree': 1.0,\n",
       "  'n_estimators': 100,\n",
       "  'reg_alpha': 0.05,\n",
       "  'reg_lambda': 0.5,\n",
       "  'scale_pos_weight': 3.5539305301645339,\n",
       "  'subsample': 0.6}}"
      ]
     },
     "execution_count": 54,
     "metadata": {},
     "output_type": "execute_result"
    }
   ],
   "source": [
    "best_params_bow"
   ]
  },
  {
   "cell_type": "code",
   "execution_count": 55,
   "metadata": {
    "collapsed": false
   },
   "outputs": [
    {
     "data": {
      "text/plain": [
       "{sklearn.naive_bayes.GaussianNB: {},\n",
       " sklearn.svm.classes.SVC: {'C': 8, 'gamma': 1},\n",
       " xgboost.sklearn.XGBClassifier: {'colsample_bytree': 1.0,\n",
       "  'n_estimators': 100,\n",
       "  'reg_alpha': 0.05,\n",
       "  'reg_lambda': 0.5,\n",
       "  'scale_pos_weight': 3.5539305301645339,\n",
       "  'subsample': 0.6}}"
      ]
     },
     "execution_count": 55,
     "metadata": {},
     "output_type": "execute_result"
    }
   ],
   "source": [
    "best_params_tfidf"
   ]
  },
  {
   "cell_type": "code",
   "execution_count": 56,
   "metadata": {
    "collapsed": false
   },
   "outputs": [
    {
     "data": {
      "text/plain": [
       "{sklearn.naive_bayes.GaussianNB: {},\n",
       " sklearn.svm.classes.SVC: {'C': 8, 'gamma': 1},\n",
       " xgboost.sklearn.XGBClassifier: {'colsample_bytree': 0.9,\n",
       "  'n_estimators': 100,\n",
       "  'reg_alpha': 0.001,\n",
       "  'reg_lambda': 0.01,\n",
       "  'scale_pos_weight': 1.0,\n",
       "  'subsample': 0.6}}"
      ]
     },
     "execution_count": 56,
     "metadata": {},
     "output_type": "execute_result"
    }
   ],
   "source": [
    "best_params_ftext"
   ]
  },
  {
   "cell_type": "code",
   "execution_count": 57,
   "metadata": {
    "collapsed": false
   },
   "outputs": [
    {
     "data": {
      "text/plain": [
       "{sklearn.naive_bayes.GaussianNB: {},\n",
       " sklearn.svm.classes.SVC: {'C': 8, 'gamma': 1},\n",
       " xgboost.sklearn.XGBClassifier: {'colsample_bytree': 0.5,\n",
       "  'n_estimators': 100,\n",
       "  'reg_alpha': 1.0,\n",
       "  'reg_lambda': 0.1,\n",
       "  'scale_pos_weight': 3.5539305301645339,\n",
       "  'subsample': 0.7}}"
      ]
     },
     "execution_count": 57,
     "metadata": {},
     "output_type": "execute_result"
    }
   ],
   "source": [
    "best_params_bow_f"
   ]
  },
  {
   "cell_type": "code",
   "execution_count": 58,
   "metadata": {
    "collapsed": false
   },
   "outputs": [
    {
     "data": {
      "text/plain": [
       "{sklearn.naive_bayes.GaussianNB: {},\n",
       " sklearn.svm.classes.SVC: {'C': 32, 'gamma': 0.125},\n",
       " xgboost.sklearn.XGBClassifier: {'colsample_bytree': 0.6,\n",
       "  'n_estimators': 100,\n",
       "  'reg_alpha': 0.05,\n",
       "  'reg_lambda': 0.05,\n",
       "  'scale_pos_weight': 3.5539305301645339,\n",
       "  'subsample': 0.8}}"
      ]
     },
     "execution_count": 58,
     "metadata": {},
     "output_type": "execute_result"
    }
   ],
   "source": [
    "best_params_bow_f_keywords"
   ]
  },
  {
   "cell_type": "code",
   "execution_count": 59,
   "metadata": {
    "collapsed": false
   },
   "outputs": [
    {
     "data": {
      "text/plain": [
       "{sklearn.naive_bayes.GaussianNB: {},\n",
       " sklearn.svm.classes.SVC: {'C': 8, 'gamma': 1},\n",
       " xgboost.sklearn.XGBClassifier: {'colsample_bytree': 0.6,\n",
       "  'n_estimators': 100,\n",
       "  'reg_alpha': 0.05,\n",
       "  'reg_lambda': 0.05,\n",
       "  'scale_pos_weight': 3.5539305301645339,\n",
       "  'subsample': 0.8}}"
      ]
     },
     "execution_count": 59,
     "metadata": {},
     "output_type": "execute_result"
    }
   ],
   "source": [
    "best_params_tfidf_f"
   ]
  },
  {
   "cell_type": "code",
   "execution_count": 60,
   "metadata": {
    "collapsed": false
   },
   "outputs": [
    {
     "data": {
      "text/plain": [
       "{sklearn.naive_bayes.GaussianNB: {},\n",
       " sklearn.svm.classes.SVC: {'C': 128, 'gamma': 1},\n",
       " xgboost.sklearn.XGBClassifier: {'colsample_bytree': 0.5,\n",
       "  'n_estimators': 100,\n",
       "  'reg_alpha': 1.0,\n",
       "  'reg_lambda': 0.1,\n",
       "  'scale_pos_weight': 3.5539305301645339,\n",
       "  'subsample': 0.7}}"
      ]
     },
     "execution_count": 60,
     "metadata": {},
     "output_type": "execute_result"
    }
   ],
   "source": [
    "best_params_tfidf_f_keywords"
   ]
  },
  {
   "cell_type": "code",
   "execution_count": 61,
   "metadata": {
    "collapsed": false
   },
   "outputs": [
    {
     "data": {
      "text/plain": [
       "{sklearn.naive_bayes.GaussianNB: {},\n",
       " sklearn.svm.classes.SVC: {'C': 128, 'gamma': 0.03125},\n",
       " xgboost.sklearn.XGBClassifier: {'colsample_bytree': 0.5,\n",
       "  'n_estimators': 100,\n",
       "  'reg_alpha': 1.0,\n",
       "  'reg_lambda': 0.1,\n",
       "  'scale_pos_weight': 3.5539305301645339,\n",
       "  'subsample': 0.7}}"
      ]
     },
     "execution_count": 61,
     "metadata": {},
     "output_type": "execute_result"
    }
   ],
   "source": [
    "best_params_ftext_f"
   ]
  },
  {
   "cell_type": "code",
   "execution_count": 62,
   "metadata": {
    "collapsed": false
   },
   "outputs": [
    {
     "data": {
      "text/plain": [
       "{sklearn.naive_bayes.GaussianNB: {},\n",
       " sklearn.svm.classes.SVC: {'C': 512, 'gamma': 0.0078125},\n",
       " xgboost.sklearn.XGBClassifier: {'colsample_bytree': 0.6,\n",
       "  'n_estimators': 100,\n",
       "  'reg_alpha': 0.05,\n",
       "  'reg_lambda': 0.05,\n",
       "  'scale_pos_weight': 3.5539305301645339,\n",
       "  'subsample': 0.8}}"
      ]
     },
     "execution_count": 62,
     "metadata": {},
     "output_type": "execute_result"
    }
   ],
   "source": [
    "best_params_ftext_f_keywords"
   ]
  },
  {
   "cell_type": "markdown",
   "metadata": {},
   "source": [
    "---"
   ]
  },
  {
   "cell_type": "markdown",
   "metadata": {},
   "source": [
    "# Old"
   ]
  },
  {
   "cell_type": "code",
   "execution_count": 118,
   "metadata": {
    "collapsed": false
   },
   "outputs": [
    {
     "data": {
      "text/html": [
       "<div>\n",
       "<table border=\"1\" class=\"dataframe\">\n",
       "  <thead>\n",
       "    <tr style=\"text-align: right;\">\n",
       "      <th></th>\n",
       "      <th>f1</th>\n",
       "      <th>precision</th>\n",
       "      <th>recall</th>\n",
       "    </tr>\n",
       "  </thead>\n",
       "  <tbody>\n",
       "    <tr>\n",
       "      <th>GaussianNB</th>\n",
       "      <td>0.883273</td>\n",
       "      <td>0.839817</td>\n",
       "      <td>0.931472</td>\n",
       "    </tr>\n",
       "    <tr>\n",
       "      <th>SVC</th>\n",
       "      <td>0.928947</td>\n",
       "      <td>0.964481</td>\n",
       "      <td>0.895939</td>\n",
       "    </tr>\n",
       "    <tr>\n",
       "      <th>XGBClassifier</th>\n",
       "      <td>0.891735</td>\n",
       "      <td>0.823656</td>\n",
       "      <td>0.972081</td>\n",
       "    </tr>\n",
       "  </tbody>\n",
       "</table>\n",
       "</div>"
      ],
      "text/plain": [
       "                     f1  precision    recall\n",
       "GaussianNB     0.883273   0.839817  0.931472\n",
       "SVC            0.928947   0.964481  0.895939\n",
       "XGBClassifier  0.891735   0.823656  0.972081"
      ]
     },
     "execution_count": 118,
     "metadata": {},
     "output_type": "execute_result"
    }
   ],
   "source": [
    "X_train = pd.concat([pd.DataFrame(X_train_ftext), X_train_orig[f + keywords]], axis=1)\n",
    "X_test = pd.concat([pd.DataFrame(X_test_ftext), test[f + keywords]], axis=1)\n",
    "\n",
    "best_params_ftext_f_keywords, metrics_ftext_f_keywords = classify_2_multiple_clfs(X_train, y_train, X_test, y_test,\n",
    "                                                                                  [GaussianNB, SVC, XGBClassifier],\n",
    "                                                                                  n_iter=n_iter, rand_seed=rand_seed_tuning)\n",
    "metrics_ftext_f_keywords"
   ]
  },
  {
   "cell_type": "code",
   "execution_count": 11,
   "metadata": {
    "collapsed": false
   },
   "outputs": [
    {
     "name": "stdout",
     "output_type": "stream",
     "text": [
      "             precision     recall         f1\n",
      "classifier                                  \n",
      "Naive Bayes  78.947368  93.243243  85.501859\n",
      "SVM          94.223827  70.540541  80.680062\n",
      "XGBoost      95.786517  92.162162  93.939394\n"
     ]
    }
   ],
   "source": [
    "X_train = pd.concat([train[f], extract_fasttext(train.text)], axis=1)\n",
    "X_val = pd.concat([validate[f], extract_fasttext(validate.text)], axis=1)\n",
    "y_train = train['label']\n",
    "y_val = validate['label']\n",
    "\n",
    "print(classify(X_train, y_train, X_val, y_val, classifiers))"
   ]
  },
  {
   "cell_type": "code",
   "execution_count": 12,
   "metadata": {
    "collapsed": false
   },
   "outputs": [
    {
     "name": "stdout",
     "output_type": "stream",
     "text": [
      "             precision     recall         f1\n",
      "classifier                                  \n",
      "Naive Bayes  84.615385  95.135135  89.567430\n",
      "SVM          96.439169  87.837838  91.937765\n",
      "XGBoost      95.821727  92.972973  94.375857\n"
     ]
    }
   ],
   "source": [
    "X_train = pd.concat([train[f + keywords], extract_fasttext(train.text)], axis=1)\n",
    "X_val = pd.concat([validate[f + keywords], extract_fasttext(validate.text)], axis=1)\n",
    "y_train = train['label']\n",
    "y_val = validate['label']\n",
    "\n",
    "print(classify(X_train, y_train, X_val, y_val, classifiers))"
   ]
  },
  {
   "cell_type": "markdown",
   "metadata": {},
   "source": [
    "## Bag of Words"
   ]
  },
  {
   "cell_type": "code",
   "execution_count": 14,
   "metadata": {
    "collapsed": false
   },
   "outputs": [
    {
     "name": "stderr",
     "output_type": "stream",
     "text": [
      "/usr/local/lib/python2.7/dist-packages/sklearn/utils/validation.py:420: DataConversionWarning: Data with input dtype int64 was converted to float64 by MinMaxScaler.\n",
      "  warnings.warn(msg, DataConversionWarning)\n"
     ]
    },
    {
     "name": "stdout",
     "output_type": "stream",
     "text": [
      "             precision     recall         f1\n",
      "classifier                                  \n",
      "Naive Bayes  84.239130  83.783784  84.010840\n",
      "SVM          98.076923  27.567568  43.037975\n",
      "XGBoost      97.009967  78.918919  87.034277\n"
     ]
    }
   ],
   "source": [
    "X_train = X.toarray()\n",
    "X_val = vectorizer.transform(validate.text).toarray()\n",
    "y_train = train['label']\n",
    "y_val = validate['label']\n",
    "\n",
    "print(classify(X_train, y_train, X_val, y_val, classifiers))"
   ]
  },
  {
   "cell_type": "markdown",
   "metadata": {},
   "source": [
    "## Latent Semantic Analysis"
   ]
  },
  {
   "cell_type": "code",
   "execution_count": 10,
   "metadata": {
    "collapsed": true
   },
   "outputs": [],
   "source": [
    "classifiers = [\n",
    "    ('Naive Bayes', GaussianNB()),\n",
    "    ('SVM', Pipeline([\n",
    "        ('min/max scaler', MinMaxScaler(feature_range=(0.0, 1.0))),\n",
    "        ('SVM', SVC())])),\n",
    "    ('XGBoost', XGBClassifier())\n",
    "]"
   ]
  },
  {
   "cell_type": "code",
   "execution_count": 11,
   "metadata": {
    "collapsed": false
   },
   "outputs": [
    {
     "name": "stdout",
     "output_type": "stream",
     "text": [
      "             precision     recall         f1\n",
      "classifier                                  \n",
      "Naive Bayes  41.136671  82.162162  54.824166\n",
      "SVM          98.387097  49.459459  65.827338\n",
      "XGBoost      96.604938  84.594595  90.201729\n"
     ]
    }
   ],
   "source": [
    "svd = TruncatedSVD(n_components=100)\n",
    "\n",
    "X_train = svd.fit_transform(X)\n",
    "X_val = svd.transform(vectorizer.transform(validate.text))\n",
    "y_train = train['label']\n",
    "y_val = validate['label']\n",
    "\n",
    "print(classify(X_train, y_train, X_val, y_val, classifiers))"
   ]
  },
  {
   "cell_type": "code",
   "execution_count": 9,
   "metadata": {
    "collapsed": false
   },
   "outputs": [
    {
     "name": "stdout",
     "output_type": "stream",
     "text": [
      "             precision     recall         f1\n",
      "classifier                                  \n",
      "Naive Bayes  38.231631  82.972973  52.344416\n",
      "SVM          98.507463  53.513514  69.352014\n",
      "XGBoost      96.783626  89.459459  92.977528\n"
     ]
    }
   ],
   "source": [
    "X_train = pd.concat([train[f].reset_index(), pd.DataFrame(X_train)], axis=1).drop('index', axis=1)\n",
    "X_val = pd.concat([validate[f].reset_index(), pd.DataFrame(X_val)], axis=1).drop('index', axis=1)\n",
    "\n",
    "print(classify(X_train, y_train, X_val, y_val, classifiers))"
   ]
  },
  {
   "cell_type": "code",
   "execution_count": 12,
   "metadata": {
    "collapsed": false
   },
   "outputs": [
    {
     "name": "stdout",
     "output_type": "stream",
     "text": [
      "             precision     recall         f1\n",
      "classifier                                  \n",
      "Naive Bayes  62.201835  91.621622  74.098361\n",
      "SVM          97.763578  82.702703  89.604685\n",
      "XGBoost      97.109827  90.810811  93.854749\n"
     ]
    }
   ],
   "source": [
    "X_train = pd.concat([train[f + keywords].reset_index(), pd.DataFrame(X_train)], axis=1).drop('index', axis=1)\n",
    "X_val = pd.concat([validate[f + keywords].reset_index(), pd.DataFrame(X_val)], axis=1).drop('index', axis=1)\n",
    "\n",
    "print(classify(X_train, y_train, X_val, y_val, classifiers))"
   ]
  },
  {
   "cell_type": "markdown",
   "metadata": {},
   "source": [
    "## TF-IDF"
   ]
  },
  {
   "cell_type": "code",
   "execution_count": 6,
   "metadata": {
    "collapsed": true
   },
   "outputs": [],
   "source": [
    "vectorizer = TfidfVectorizer(min_df=5)\n",
    "X = vectorizer.fit_transform(train.text)"
   ]
  },
  {
   "cell_type": "code",
   "execution_count": 7,
   "metadata": {
    "collapsed": false
   },
   "outputs": [
    {
     "name": "stderr",
     "output_type": "stream",
     "text": [
      "/usr/local/lib/python2.7/dist-packages/sklearn/metrics/classification.py:1074: UndefinedMetricWarning: Precision is ill-defined and being set to 0.0 due to no predicted samples.\n",
      "  'precision', 'predicted', average, warn_for)\n",
      "/usr/local/lib/python2.7/dist-packages/sklearn/metrics/classification.py:1074: UndefinedMetricWarning: F-score is ill-defined and being set to 0.0 due to no predicted samples.\n",
      "  'precision', 'predicted', average, warn_for)\n"
     ]
    },
    {
     "name": "stdout",
     "output_type": "stream",
     "text": [
      "             precision     recall         f1\n",
      "classifier                                  \n",
      "Naive Bayes  14.751958  91.621622  25.412294\n",
      "SVM           0.000000   0.000000   0.000000\n",
      "XGBoost      97.643098  78.378378  86.956522\n"
     ]
    }
   ],
   "source": [
    "X_train = X.toarray()\n",
    "X_val = vectorizer.transform(validate.text).toarray()\n",
    "y_train = train['label']\n",
    "y_val = validate['label']\n",
    "\n",
    "print(classify(X_train, y_train, X_val, y_val, classifiers))"
   ]
  },
  {
   "cell_type": "markdown",
   "metadata": {},
   "source": [
    "## Latent Semantic Analysis"
   ]
  },
  {
   "cell_type": "code",
   "execution_count": 8,
   "metadata": {
    "collapsed": false
   },
   "outputs": [
    {
     "name": "stdout",
     "output_type": "stream",
     "text": [
      "             precision     recall         f1\n",
      "classifier                                  \n",
      "Naive Bayes  11.856205  92.702703  21.023598\n",
      "SVM          98.630137  19.459459  32.505643\n",
      "XGBoost      93.865031  82.702703  87.931034\n"
     ]
    }
   ],
   "source": [
    "svd = TruncatedSVD(n_components=100)\n",
    "\n",
    "X_train = svd.fit_transform(X)\n",
    "X_val = svd.transform(vectorizer.transform(validate.text))\n",
    "y_train = train['label']\n",
    "y_val = validate['label']\n",
    "\n",
    "print(classify(X_train, y_train, X_val, y_val, classifiers))"
   ]
  },
  {
   "cell_type": "code",
   "execution_count": 11,
   "metadata": {
    "collapsed": false
   },
   "outputs": [
    {
     "name": "stdout",
     "output_type": "stream",
     "text": [
      "             precision     recall         f1\n",
      "classifier                                  \n",
      "Naive Bayes  65.843621  86.486486  74.766355\n",
      "SVM          95.481928  85.675676  90.313390\n",
      "7NN          91.438356  72.162162  80.664653\n",
      "XGBoost      96.726190  87.837838  92.067989\n"
     ]
    }
   ],
   "source": [
    "X_train = pd.concat([train[f].reset_index(), pd.DataFrame(X_train)], axis=1).drop('index', axis=1)\n",
    "X_val = pd.concat([validate[f].reset_index(), pd.DataFrame(X_val)], axis=1).drop('index', axis=1)\n",
    "\n",
    "print(classify(X_train, y_train, X_val, y_val, classifiers))"
   ]
  },
  {
   "cell_type": "code",
   "execution_count": 25,
   "metadata": {
    "collapsed": false
   },
   "outputs": [
    {
     "name": "stdout",
     "output_type": "stream",
     "text": [
      "             precision     recall         f1\n",
      "classifier                                  \n",
      "Naive Bayes  83.932854  94.594595  88.945362\n",
      "SVM          96.285714  91.081081  93.611111\n",
      "7NN          93.706294  72.432432  81.707317\n",
      "XGBoost      97.159091  92.432432  94.736842\n"
     ]
    }
   ],
   "source": [
    "X_train = pd.concat([train[f + keywords].reset_index(), pd.DataFrame(X_train)], axis=1).drop('index', axis=1)\n",
    "X_val = pd.concat([validate[f + keywords].reset_index(), pd.DataFrame(X_val)], axis=1).drop('index', axis=1)\n",
    "\n",
    "print(classify(X_train, y_train, X_val, y_val, classifiers))"
   ]
  },
  {
   "cell_type": "markdown",
   "metadata": {},
   "source": [
    "# Testing"
   ]
  },
  {
   "cell_type": "code",
   "execution_count": 6,
   "metadata": {
    "collapsed": true
   },
   "outputs": [],
   "source": [
    "tv = pd.concat([train, validate])"
   ]
  },
  {
   "cell_type": "code",
   "execution_count": 7,
   "metadata": {
    "collapsed": false
   },
   "outputs": [
    {
     "name": "stdout",
     "output_type": "stream",
     "text": [
      "             precision     recall         f1\n",
      "classifier                                  \n",
      "Naive Bayes  82.258065  92.487047  87.073171\n",
      "SVM          93.633952  91.450777  92.529489\n",
      "7NN          90.445860  73.575130  81.142857\n",
      "XGBoost      94.652406  91.709845  93.157895\n"
     ]
    }
   ],
   "source": [
    "X_train = pd.concat([tv[f + keywords], extract_fasttext(tv.text)], axis=1)\n",
    "X_val = pd.concat([test[f + keywords], extract_fasttext(test.text)], axis=1)\n",
    "y_train = tv['label']\n",
    "y_val = test['label']\n",
    "\n",
    "print(classify(X_train, y_train, X_val, y_val, classifiers))"
   ]
  },
  {
   "cell_type": "code",
   "execution_count": 8,
   "metadata": {
    "collapsed": false
   },
   "outputs": [
    {
     "name": "stdout",
     "output_type": "stream",
     "text": [
      "             precision     recall         f1\n",
      "classifier                                  \n",
      "Naive Bayes  64.102564  90.673575  75.107296\n",
      "SVM          92.816092  83.678756  88.010899\n",
      "7NN          90.228013  71.761658  79.942280\n",
      "XGBoost      93.239437  85.751295  89.338731\n"
     ]
    }
   ],
   "source": [
    "vectorizer = CountVectorizer(min_df=5)\n",
    "X = vectorizer.fit_transform(tv.text)\n",
    "\n",
    "svd = TruncatedSVD(n_components=100)\n",
    "\n",
    "X_train = svd.fit_transform(X)\n",
    "X_val = svd.transform(vectorizer.transform(test.text))\n",
    "X_train = pd.concat([tv[f + keywords].reset_index(), pd.DataFrame(X_train)], axis=1).drop('index', axis=1)\n",
    "X_val = pd.concat([test[f + keywords].reset_index(), pd.DataFrame(X_val)], axis=1).drop('index', axis=1)\n",
    "y_train = tv['label']\n",
    "y_val = test['label']\n",
    "\n",
    "print(classify(X_train, y_train, X_val, y_val, classifiers))"
   ]
  },
  {
   "cell_type": "code",
   "execution_count": 9,
   "metadata": {
    "collapsed": false
   },
   "outputs": [
    {
     "name": "stdout",
     "output_type": "stream",
     "text": [
      "             precision     recall         f1\n",
      "classifier                                  \n",
      "Naive Bayes  81.755196  91.709845  86.446886\n",
      "SVM          93.220339  85.492228  89.189189\n",
      "7NN          89.802632  70.725389  79.130435\n",
      "XGBoost      93.220339  85.492228  89.189189\n"
     ]
    }
   ],
   "source": [
    "vectorizer = TfidfVectorizer(min_df=5)\n",
    "X = vectorizer.fit_transform(tv.text)\n",
    "\n",
    "svd = TruncatedSVD(n_components=100)\n",
    "\n",
    "X_train = svd.fit_transform(X)\n",
    "X_val = svd.transform(vectorizer.transform(test.text))\n",
    "X_train = pd.concat([tv[f + keywords].reset_index(), pd.DataFrame(X_train)], axis=1).drop('index', axis=1)\n",
    "X_val = pd.concat([test[f + keywords].reset_index(), pd.DataFrame(X_val)], axis=1).drop('index', axis=1)\n",
    "y_train = tv['label']\n",
    "y_val = test['label']\n",
    "\n",
    "print(classify(X_train, y_train, X_val, y_val, classifiers))"
   ]
  }
 ],
 "metadata": {
  "anaconda-cloud": {},
  "kernelspec": {
   "display_name": "Python 2",
   "language": "python",
   "name": "python2"
  },
  "language_info": {
   "codemirror_mode": {
    "name": "ipython",
    "version": 2
   },
   "file_extension": ".py",
   "mimetype": "text/x-python",
   "name": "python",
   "nbconvert_exporter": "python",
   "pygments_lexer": "ipython2",
   "version": "2.7.6"
  }
 },
 "nbformat": 4,
 "nbformat_minor": 0
}
